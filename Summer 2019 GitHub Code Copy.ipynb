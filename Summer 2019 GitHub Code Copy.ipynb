{
 "cells": [
  {
   "cell_type": "code",
   "execution_count": 1,
   "metadata": {},
   "outputs": [],
   "source": [
    "import matplotlib\n",
    "from matplotlib import pyplot as plt\n",
    "import pandas as pd\n",
    "import numpy as np\n",
    "import seaborn as sns\n",
    "import cv2\n",
    "import os\n",
    "import os.path\n",
    "import datetime\n",
    "from imutils.video import VideoStream\n",
    "import argparse\n",
    "import imutils\n",
    "import time\n",
    "import pickle"
   ]
  },
  {
   "cell_type": "code",
   "execution_count": 2,
   "metadata": {},
   "outputs": [],
   "source": [
    "#read the video\n",
    "path2video = '../data/w060.avi'\n",
    "# read video\n",
    "video = cv2.VideoCapture(path2video)"
   ]
  },
  {
   "cell_type": "code",
   "execution_count": 3,
   "metadata": {},
   "outputs": [],
   "source": [
    "def zoom2roi(ax):\n",
    "    \"\"\"\n",
    "    Identify coordinates of zoomed-in/moved axis in interactive mode\n",
    "\n",
    "    Arguments\n",
    "    ---------\n",
    "    ax: matplotlib axis\n",
    "        zoomed-in/moved axis\n",
    "\n",
    "    Returns\n",
    "    ---------\n",
    "    zoom_coords: tuple of slice objects\n",
    "        coordinates of zoomed in box, use as im[zoom_coords]\n",
    "\n",
    "    \"\"\"    \n",
    "    # get x and y limits\n",
    "    xlim = [int(x) for x in ax.get_xlim()]\n",
    "    ylim = [int(y) for y in ax.get_ylim()]\n",
    "\n",
    "    # make and return slice objects\n",
    "    return (slice(ylim[1],ylim[0]), slice(xlim[0],xlim[1]))"
   ]
  },
  {
   "cell_type": "code",
   "execution_count": 4,
   "metadata": {},
   "outputs": [],
   "source": [
    "#Gives Ordered Numbers to the Frames and Coordinates\n",
    "def tracker():\n",
    "    tracker_count = 0\n",
    "    return_statement = []\n",
    "    for i in range (tracker_count, len(all_frames) ):\n",
    "        tracker_count = tracker_count + 1\n",
    "        return_statement.append((\"ROI Coord Number: \" + str(tracker_count) + \" \"+ str(all_coords[i])))\n",
    "    return return_statement"
   ]
  },
  {
   "cell_type": "code",
   "execution_count": 5,
   "metadata": {},
   "outputs": [],
   "source": [
    "#Saves ROI coordinates into a separate list. Two-step function because overwriting can be useful redunancy \n",
    "def save_roicoords(roicoords_list): \n",
    "    all_coords.append(roicoords_list)"
   ]
  },
  {
   "cell_type": "code",
   "execution_count": 6,
   "metadata": {},
   "outputs": [],
   "source": [
    "#Saves Frames into the all_list\n",
    "def save_frames(frames_list):\n",
    "    new_frames_list = frames_list\n",
    "    all_frames.append(new_frames_list)"
   ]
  },
  {
   "cell_type": "code",
   "execution_count": 7,
   "metadata": {},
   "outputs": [],
   "source": [
    "\n",
    "#Clears all Frames\n",
    "def clear_all_frames():\n",
    "    all_frames.clear()"
   ]
  },
  {
   "cell_type": "code",
   "execution_count": 8,
   "metadata": {},
   "outputs": [],
   "source": [
    "\n",
    "#Clears Everything\n",
    "def all_clear():\n",
    "    all_frames.clear()\n",
    "    all_coords.clear()\n",
    "    tracker_count = 0"
   ]
  },
  {
   "cell_type": "code",
   "execution_count": 9,
   "metadata": {},
   "outputs": [],
   "source": [
    "\n",
    "#Plots the images\n",
    "def plot_images(start_num, num_Frames):\n",
    "    %matplotlib \n",
    "    counter = 0\n",
    "    #Path to the video\n",
    "    path2video = '../data/w060.avi'\n",
    "    # read video\n",
    "    video = cv2.VideoCapture(path2video)\n",
    "    #Loops the video to the frame that is desired\n",
    "    while(counter < start_num-1):\n",
    "        frame = video.read()[1][:,:,0]\n",
    "        counter +=1\n",
    "    #Pickling List\n",
    "    file = \"roi_list\"\n",
    "    roi_list = []\n",
    "    if os.path.exists(file):\n",
    "        with open(\"roi_list\",\"rb\") as al:\n",
    "            roi_list = pickle.load(al)\n",
    "    # Find number of frames in video\n",
    "        while(counter < num_Frames):\n",
    "            frame = video.read()[1][:,:,0]\n",
    "            fig, ax = plt.subplots()\n",
    "            ax.imshow(frame)\n",
    "            #save_frames(frame)\n",
    "            plt.ginput(10000, timeout=0, show_clicks=False)\n",
    "            roicoords = zoom2roi(ax)\n",
    "            if(counter in range (len(roi_list))):\n",
    "                roi_list[counter] = roicoords\n",
    "            else:\n",
    "                roi_list.append(roicoords)\n",
    "            #save_roicoords(roicoords)\n",
    "            #roi_frame = np.array(plt.imshow(frame[roicoords]))\n",
    "            counter+= 1\n",
    "            plt.close()      \n",
    "    with open(\"roi_list\",\"wb\") as al:\n",
    "        pickle.dump(roi_list,al)\n",
    "        \n",
    "       # with open(file,'rb') as al:\n",
    "        #    roi_list = pickle.load(al)"
   ]
  },
  {
   "cell_type": "code",
   "execution_count": 10,
   "metadata": {},
   "outputs": [],
   "source": [
    "#Unpickles the Coordinate List\n",
    "def unpickled():    \n",
    "    pickle_off = open(\"roi_list\",\"rb\")\n",
    "    roi_list = pickle.load(pickle_off)\n",
    "    return roi_list"
   ]
  },
  {
   "cell_type": "code",
   "execution_count": 11,
   "metadata": {},
   "outputs": [],
   "source": [
    "#Deletes The Parts of the Pickled List\n",
    "def deleting_pickle(first,last):\n",
    "    pickle_off = open(\"roi_list\",\"rb\")\n",
    "    roi_list = pickle.load(pickle_off)\n",
    "    new_list = []\n",
    "    return_statement = []\n",
    "    for i in range(0,len(roi_list)):\n",
    "        if(i in range (first-1,last)):\n",
    "            new_list = new_list\n",
    "        else:\n",
    "            new_list.append(roi_list[i])\n",
    "        \n",
    "            return_statement.append((\"ROI Coord Number: \" + str(i) + \" \"+ str(roi_list[i])))\n",
    "    pickling_on = open(\"roi_list\",\"wb\")\n",
    "    pickle.dump(new_list,pickling_on)\n",
    "    pickling_on.close()\n",
    "    return return_statement"
   ]
  },
  {
   "cell_type": "code",
   "execution_count": 12,
   "metadata": {},
   "outputs": [],
   "source": [
    "#Tracker for Pickled List\n",
    "def pickle_tracker():\n",
    "    pickle_off = open(\"roi_list\",\"rb\")\n",
    "    roi_list = pickle.load(pickle_off)\n",
    "    tracker_count = 0\n",
    "    return_statement = []\n",
    "    for i in range (tracker_count, len(roi_list)  ):\n",
    "        tracker_count = tracker_count + 1\n",
    "        return_statement.append((\"ROI Coord Number: \" + str(tracker_count) + \" \"+ str(roi_list[i])))\n",
    "    return return_statement"
   ]
  },
  {
   "cell_type": "code",
   "execution_count": 13,
   "metadata": {},
   "outputs": [],
   "source": [
    "#Plots the Regions of Interest\n",
    "def plot_roi(start_frames, end_frames):\n",
    "    #%matplotlib qt\n",
    "    #read the video\n",
    "    path2video = '../data/w060.avi'\n",
    "    # read video\n",
    "    video = cv2.VideoCapture(path2video)\n",
    "   \n",
    "    for i in range(0,start_frames-1):\n",
    "        frame = video.read()[1][:,:,1]\n",
    "        \n",
    "    for i in range (start_frames, end_frames):\n",
    "        fig, ax = plt.subplots()\n",
    "        frame = video.read()[1][:,:,1]\n",
    "        ax.imshow(frame[unpickled()[i]])\n",
    "        plt.ginput(10000, timeout=0, show_clicks=False)\n",
    "        plt.close()\n"
   ]
  },
  {
   "cell_type": "code",
   "execution_count": 14,
   "metadata": {},
   "outputs": [],
   "source": [
    "#Loops Through the Video to Start the Plotting of the Frames to Desired Location\n",
    "def loop_till(num_frames):\n",
    "    for i in range(len(all_frames),num_frames):\n",
    "        frame = video.read()[1][:,:,1]"
   ]
  },
  {
   "cell_type": "code",
   "execution_count": 15,
   "metadata": {},
   "outputs": [],
   "source": [
    "\n",
    "#Sets up the plots such that images will be under the roicoordinate of one frame\n",
    "def one_cord(num_frames):\n",
    "    #read the video\n",
    "    path2video = '../data/w060.avi'\n",
    "    # read video\n",
    "    video = cv2.VideoCapture(path2video)\n",
    "   \n",
    "    for i in range(0, num_frames):\n",
    "        fig, ax = plt.subplots()\n",
    "        frame = video.read()[1][:,:,1]\n",
    "        ax.imshow(frame[unpickled()[0]])\n",
    "        plt.ginput(10000,timeout=0,show_clicks=False)\n",
    "        plt.close()"
   ]
  },
  {
   "cell_type": "code",
   "execution_count": 16,
   "metadata": {},
   "outputs": [],
   "source": [
    "def one_cord_full(num_frames):\n",
    "    #read the video\n",
    "    path2video = '../data/w060.avi'\n",
    "    # read video\n",
    "    video = cv2.VideoCapture(path2video)\n",
    "    \n",
    "    for i in range(0, num_frames):\n",
    "        fig, ax = plt.subplots()\n",
    "        frame = video.read()[1][:,:,1]\n",
    "        ax.imshow(frame)\n",
    "        plt.ginput(10000,timeout=0,show_clicks=False)\n",
    "        plt.close()"
   ]
  },
  {
   "cell_type": "code",
   "execution_count": 17,
   "metadata": {},
   "outputs": [],
   "source": [
    "def roiframes_to_video_converter():\n",
    "    #read the video\n",
    "    path2video = '../data/w060.avi'\n",
    "    # read video\n",
    "    video = cv2.VideoCapture(path2video)\n",
    "    file = \"roi_vid\"\n",
    "    roi_list = []\n",
    "    if os.path.exists(file):\n",
    "     \n",
    "        for i in range(0, num_frames):\n",
    "            fig, ax = plt.subplots()\n",
    "            frame = video.read()[1][:,:,1]\n",
    "            ax.imshow(frame[unpickled()[0]])\n",
    "            plt.ginput(10000,timeout=0,show_clicks=False)\n",
    "            plt.close()"
   ]
  },
  {
   "cell_type": "code",
   "execution_count": 18,
   "metadata": {},
   "outputs": [],
   "source": [
    "\n",
    "def find_max_frames():\n",
    "    pickled_roi_list = unpickled()\n",
    "    max_yvalue = -1\n",
    "    max_xvalue = -1\n",
    "    for i in range (0,len(unpickled())):\n",
    "        if((unpickled()[i][1].stop - unpickled()[i][1].start) >= max_xvalue):\n",
    "            max_xvalue = unpickled()[i][1].stop - unpickled()[i][1].start\n",
    "\n",
    "        else:\n",
    "            max_xvalue = max_xvalue\n",
    "\n",
    "        if((unpickled()[i][0].stop - unpickled()[i][0].start) >= max_yvalue):\n",
    "            max_yvalue = unpickled()[i][0].stop - unpickled()[i][0].start\n",
    "            \n",
    "        else:\n",
    "            max_yvalue = max_yvalue\n",
    "\n",
    "    return max_xvalue, max_yvalue"
   ]
  },
  {
   "cell_type": "code",
   "execution_count": 19,
   "metadata": {},
   "outputs": [],
   "source": [
    "def resize_frames(num_frames):\n",
    "    #read the video\n",
    "    path2video = '../data/w060.avi'\n",
    "    # read video\n",
    "    video = cv2.VideoCapture(path2video)\n",
    "    \n",
    "    pickled_roi_list = unpickled()\n",
    "    counter = 0\n",
    "    #read the video\n",
    "    path2video = '../data/w060.avi'\n",
    "    # read video\n",
    "    video = cv2.VideoCapture(path2video)\n",
    "    x_standard, y_standard = find_max_frames()\n",
    "    # creates a new list to store the true roi_coords in\n",
    "    file = \"remodeled_roi_list\"\n",
    "    remodeled_roi_list = []\n",
    "    roi_list = []\n",
    "    if os.path.exists(file):\n",
    "        with open(\"remodeled_roi_list\",\"rb\") as al:\n",
    "            remodeled_roi_list = pickle.load(al)\n",
    "\n",
    "    for i in range (0,num_frames):\n",
    "        if(unpickled()[i][1].stop-unpickled()[i][1].start!=x_standard): ##Check first sign...see if it's pickled_roi_list[i][1].start+ or - the rest\n",
    "            new_xval = x_standard-(unpickled()[i][1].stop - unpickled()[i][1].start)\n",
    "            #new_xval = pickled_roi_list[i][1].start + (x_standard-(unpickled()[i][1].stop-unpickled()[i][1].start))\n",
    "        if(unpickled()[i][0].stop-unpickled()[i][0].start!=y_standard):\n",
    "            #new_yval = pickled_roi_list[i][0].start+(y_standard-(unpickled()[i][0].stop-unpickled()[i][0].start))   \n",
    "            new_yval = y_standard-(unpickled()[i][0].stop-unpickled()[i][0].start)\n",
    "             # make and return slice objects\n",
    "        counter = counter\n",
    "        if(counter in range (len(remodeled_roi_list))):\n",
    "            remodeled_roi_list[counter]= (slice(unpickled()[i][0].start, unpickled()[i][0].stop+new_yval), slice(unpickled()[i][1].start, unpickled()[i][1].stop + new_xval))\n",
    "        else:\n",
    "            remodeled_roi_list.append((slice(unpickled()[i][0].start, unpickled()[i][0].stop+new_yval), slice(unpickled()[i][1].start, unpickled()[i][1].stop + new_xval)))\n",
    "    with open(\"remodeled_roi_list\",\"wb\") as al:\n",
    "        pickle.dump(remodeled_roi_list,al)\n",
    "        \n",
    "    counter = 0"
   ]
  },
  {
   "cell_type": "code",
   "execution_count": 20,
   "metadata": {},
   "outputs": [],
   "source": [
    "#Tracker for Pickled List\n",
    "def remodeled_pickle_tracker():\n",
    "    pickle_off = open(\"roi_list\",\"rb\")\n",
    "    remodeled_roi_list = pickle.load(pickle_off)\n",
    "    tracker_count = 0\n",
    "    return_statement = []\n",
    "    for i in range (tracker_count, len(remodeled_roi_list)):\n",
    "        tracker_count = tracker_count + 1\n",
    "        return_statement.append((\"ROI Coord Number: \" + str(tracker_count) + \" \"+ str(remodeled_roi_list[i])))\n",
    "    return return_statement"
   ]
  },
  {
   "cell_type": "code",
   "execution_count": 21,
   "metadata": {},
   "outputs": [],
   "source": [
    "def resized_frames_show(value):\n",
    "    #read the video\n",
    "    path2video = '../data/w060.avi'\n",
    "    # read video\n",
    "    video = cv2.VideoCapture(path2video)\n",
    "    pickle_off = open(\"roi_list\",\"rb\")\n",
    "    remodeled_roi_list = pickle.load(pickle_off)\n",
    "    frame = video.read()[1][:,:,1]\n",
    "        \n",
    "    for i in range (value):\n",
    "        fig, ax = plt.subplots()\n",
    "        frame = video.read()[1][:,:,1]\n",
    "        ax.imshow(frame[remodeled_roi_list[i]])\n",
    "        plt.ginput(10000, timeout=0, show_clicks=False)\n",
    "        plt.close()"
   ]
  },
  {
   "cell_type": "code",
   "execution_count": 22,
   "metadata": {},
   "outputs": [
    {
     "data": {
      "text/plain": [
       "(290, 423, 229, 279, 165, 111, 455, 340)"
      ]
     },
     "execution_count": 22,
     "metadata": {},
     "output_type": "execute_result"
    }
   ],
   "source": [
    "#This is a model on how to cut off the frames to get it at the exact level I wanted to have it at\n",
    "pickled_roi_list = unpickled()\n",
    "sample = pickled_roi_list\n",
    "xone = sample[0][1].start\n",
    "xtwo = sample[0][1].stop\n",
    "x_max = find_max_frames()[0]\n",
    "yone = sample[0][0].start\n",
    "ytwo = sample[0][0].stop\n",
    "y_max = find_max_frames()[1]\n",
    "\n",
    "\n",
    "if(sample[0][1].stop-sample[0][1].start!=y_max): ##Check first sign...see if it's pickled_roi_list[i][1].start+ or - the rest\n",
    "    new_xval = sample[0][1].stop + (x_max-(sample[0][1].stop-sample[0][1].start))\n",
    "else:\n",
    "    new_xval = sample[0][1].start\n",
    "    \n",
    "\n",
    "if(sample[0][0].stop-sample[0][0].start!=y_max):\n",
    "    new_yval = sample[0][0].stop+(y_max-(sample[0][0].stop-sample[0][0].start))\n",
    "else:\n",
    "    new_yval = sample[0][0].start\n",
    "xone, xtwo, yone, ytwo, x_max, y_max, new_xval, new_yval"
   ]
  },
  {
   "cell_type": "code",
   "execution_count": 23,
   "metadata": {},
   "outputs": [],
   "source": [
    "def resize_frames_safety(num_frames): \n",
    "    #read the video\n",
    "    path2video = '../data/w060.avi'\n",
    "    # read video\n",
    "    video = cv2.VideoCapture(path2video)\n",
    "    \n",
    "    pickled_roi_list = unpickled()\n",
    "    counter = 0\n",
    "    #read the video\n",
    "    path2video = '../data/w060.avi'\n",
    "    # read video\n",
    "    video = cv2.VideoCapture(path2video)\n",
    "    x_standard, y_standard = find_max_frames()\n",
    "    for i in range (0,num_frames):\n",
    "        if(unpickled()[i][1].stop-unpickled()[i][1].start!=x_standard): ##Check first sign...see if it's pickled_roi_list[i][1].start+ or - the rest\n",
    "            new_xval = x_standard-(unpickled()[i][1].stop - unpickled()[i][1].start)\n",
    "            #new_xval = pickled_roi_list[i][1].start + (x_standard-(unpickled()[i][1].stop-unpickled()[i][1].start))\n",
    "        if(unpickled()[i][0].stop-unpickled()[i][0].start!=y_standard):\n",
    "            #new_yval = pickled_roi_list[i][0].start+(y_standard-(unpickled()[i][0].stop-unpickled()[i][0].start))   \n",
    "            new_yval = y_standard-(unpickled()[i][0].stop-unpickled()[i][0].start)\n",
    "        # make and return slice objects\n",
    "        print(slice(unpickled()[i][0].start, unpickled()[i][0].stop+new_yval), slice(unpickled()[i][1].start, unpickled()[i][1].stop + new_xval))"
   ]
  },
  {
   "cell_type": "code",
   "execution_count": 35,
   "metadata": {},
   "outputs": [],
   "source": [
    "roiframes_to_video_converter()"
   ]
  },
  {
   "cell_type": "code",
   "execution_count": 50,
   "metadata": {},
   "outputs": [],
   "source": [
    "resize_frames(531)"
   ]
  },
  {
   "cell_type": "code",
   "execution_count": 28,
   "metadata": {},
   "outputs": [],
   "source": [
    "resized_frames_show(50)"
   ]
  },
  {
   "cell_type": "code",
   "execution_count": 51,
   "metadata": {},
   "outputs": [
    {
     "data": {
      "text/plain": [
       "['ROI Coord Number: 1 (slice(224, 335, None), slice(200, 365, None))']"
      ]
     },
     "execution_count": 51,
     "metadata": {},
     "output_type": "execute_result"
    }
   ],
   "source": [
    "remodeled_pickle_tracker()"
   ]
  },
  {
   "cell_type": "code",
   "execution_count": 25,
   "metadata": {},
   "outputs": [
    {
     "name": "stdout",
     "output_type": "stream",
     "text": [
      "Using matplotlib backend: MacOSX\n"
     ]
    }
   ],
   "source": [
    "%matplotlib"
   ]
  },
  {
   "cell_type": "code",
   "execution_count": null,
   "metadata": {},
   "outputs": [],
   "source": []
  }
 ],
 "metadata": {
  "kernelspec": {
   "display_name": "Python 3",
   "language": "python",
   "name": "python3"
  },
  "language_info": {
   "codemirror_mode": {
    "name": "ipython",
    "version": 3
   },
   "file_extension": ".py",
   "mimetype": "text/x-python",
   "name": "python",
   "nbconvert_exporter": "python",
   "pygments_lexer": "ipython3",
   "version": "3.6.5"
  }
 },
 "nbformat": 4,
 "nbformat_minor": 2
}
